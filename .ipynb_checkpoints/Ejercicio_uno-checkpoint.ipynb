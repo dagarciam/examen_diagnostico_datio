{
 "cells": [
  {
   "cell_type": "code",
   "execution_count": 101,
   "metadata": {
    "scrolled": true
   },
   "outputs": [],
   "source": [
    "# Ubicaciones y tipo de archivo\n",
    "file_comic = \"/home/adrian/Documentos/AEA/examen_diagnostico_datio/src/main/resources/input/csv/comics/comics.csv\"\n",
    "file_charac_comic = \"/home/adrian/Documentos/AEA/examen_diagnostico_datio/src/main/resources/input/csv/comics/charactersToComics.csv\"\n",
    "file_charac = \"/home/adrian/Documentos/AEA/examen_diagnostico_datio/src/main/resources/input/csv/comics/characters.csv\"\n",
    "file_type = \"csv\"\n",
    "\n",
    "# Propiedasdes del CSV generales\n",
    "infer_schema = \"true\"\n",
    "first_row_is_header = \"true\"\n",
    "delimiter = \",\"\n",
    "\n",
    "#Cargar Comics\n",
    "comics = spark.read.format(file_type) \\\n",
    ".option('inferSchema',infer_schema) \\\n",
    ".option('header', first_row_is_header) \\\n",
    ".option('sep', delimiter) \\\n",
    ".load(file_comic)\n",
    "\n",
    "#Cargar relacion comics_characters\n",
    "charac_comic = spark.read.format(file_type) \\\n",
    ".option('inferSchema',infer_schema) \\\n",
    ".option('header', first_row_is_header) \\\n",
    ".option('sep', delimiter) \\\n",
    ".load(file_charac_comic)\n",
    "\n",
    "#Cargar characters\n",
    "charac = spark.read.format(file_type) \\\n",
    ".option('inferSchema',infer_schema) \\\n",
    ".option('header', first_row_is_header) \\\n",
    ".option('sep', delimiter) \\\n",
    ".load(file_charac)\n",
    "\n",
    "#comics.show()\n",
    "#charac_comic.show()\n",
    "#charac.show()\n"
   ]
  },
  {
   "cell_type": "code",
   "execution_count": null,
   "metadata": {
    "scrolled": true
   },
   "outputs": [],
   "source": [
    "from pyspark.sql import functions as F\n",
    "\n",
    "#inner join\n",
    "comic_full = comics.join(charac_comic, comics.comicID == charac_comic.comicID, how='inner').join(charac, charac_comic.characterID == charac.characterID, how='inner')\n",
    "\n",
    "nuevo = comic_full.groupby(comics.comicID, comics.title, comics.issueNumber, comics.description).agg(F.collect_list(charac.name).alias(\"personajes\"))\n",
    "\n",
    "nuevo.write.parquet(\"/home/adrian/Documentos/AEA/examen_diagnostico_datio/src/main/output/parquet/comics.parquet\")"
   ]
  },
  {
   "cell_type": "code",
   "execution_count": 97,
   "metadata": {
    "scrolled": true
   },
   "outputs": [],
   "source": []
  },
  {
   "cell_type": "code",
   "execution_count": null,
   "metadata": {},
   "outputs": [],
   "source": []
  }
 ],
 "metadata": {
  "kernelspec": {
   "display_name": "Python 3",
   "language": "python",
   "name": "python3"
  },
  "language_info": {
   "codemirror_mode": {
    "name": "ipython",
    "version": 3
   },
   "file_extension": ".py",
   "mimetype": "text/x-python",
   "name": "python",
   "nbconvert_exporter": "python",
   "pygments_lexer": "ipython3",
   "version": "3.6.9"
  }
 },
 "nbformat": 4,
 "nbformat_minor": 2
}
