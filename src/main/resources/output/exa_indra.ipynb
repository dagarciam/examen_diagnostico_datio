{
 "cells": [
  {
   "cell_type": "code",
   "execution_count": 1,
   "metadata": {},
   "outputs": [],
   "source": [
    "import pyspark\n",
    "from pyspark import SparkContext, SparkConf\n",
    "from pyspark.sql import SparkSession\n",
    "conf=pyspark.SparkConf().setAppName('myapp').setMaster('local')\n"
   ]
  },
  {
   "cell_type": "code",
   "execution_count": 2,
   "metadata": {},
   "outputs": [],
   "source": [
    "from pyspark.sql.types import *\n",
    "from pyspark.sql.functions import *\n",
    "from pyspark.sql.types import *\n",
    "from datetime import date, timedelta, datetime\n",
    "import time\n",
    "from pyspark.sql.functions import col, when"
   ]
  },
  {
   "cell_type": "code",
   "execution_count": 3,
   "metadata": {},
   "outputs": [],
   "source": [
    "sc=pyspark.SparkContext(conf=conf)"
   ]
  },
  {
   "cell_type": "code",
   "execution_count": 4,
   "metadata": {},
   "outputs": [],
   "source": [
    "from pyspark.sql import SQLContext\n",
    "sql_c=SQLContext(sc)"
   ]
  },
  {
   "cell_type": "code",
   "execution_count": 5,
   "metadata": {},
   "outputs": [],
   "source": [
    "spark=SparkSession(sc)"
   ]
  },
  {
   "cell_type": "code",
   "execution_count": 6,
   "metadata": {},
   "outputs": [],
   "source": [
    "path_comics=\"/home/bma/Desktop/examen_diagnostico_datio-master/src/main/resources/input/csv/comics\"\n",
    "CHAR=sql_c.read.csv(\"/home/bma/Desktop/examen_diagnostico_datio-master/src/main/resources/input/csv/comics/characters.csv\",header=True)\n",
    "CHAR_TO=sql_c.read.csv(\"/home/bma/Desktop/examen_diagnostico_datio-master/src/main/resources/input/csv/comics/charactersToComics.csv\",header=True)\n",
    "COMICS=sql_c.read.csv(\"/home/bma/Desktop/examen_diagnostico_datio-master/src/main/resources/input/csv/comics/comics.csv\",header=True)"
   ]
  },
  {
   "cell_type": "markdown",
   "metadata": {},
   "source": [
    "### Ejercicio 1.- Al Dataframe que contiene los nombres de comics queremos agregar una columna que contenga los personajes a forma de array"
   ]
  },
  {
   "cell_type": "code",
   "execution_count": 13,
   "metadata": {},
   "outputs": [
    {
     "name": "stdout",
     "output_type": "stream",
     "text": [
      "+--------------------+--------------------+--------------------+--------------------+\n",
      "|             comicID|               title|         issueNumber|         description|\n",
      "+--------------------+--------------------+--------------------+--------------------+\n",
      "|               16232|Cap Transport (20...|                  12|                null|\n",
      "|               16248|Cap Transport (20...|                   9|                null|\n",
      "|                4990| Halo Preview (2006)|                   0|                null|\n",
      "|               21486|Ultimate X-Men (S...|                   9|                null|\n",
      "|               58634|A Year of Marvels...|                   5|It’s Halloween in...|\n",
      "|               37534|Magician: Apprent...|                  17|The electrifying ...|\n",
      "|               58586|The Amazing Spide...|                  19|                null|\n",
      "|               16241|Cap Transport (20...|                  20|                null|\n",
      "|               25320|Halo Chronicles (...|                   1|                null|\n",
      "|               21479|Ultimate X-Men (S...|                   1|                null|\n",
      "|               21468|Ultimate Spider-M...|                   4|                null|\n",
      "|               15094|Silver Surfer (1987)|                   0|                null|\n",
      "|               15808|Ultimate Spider-M...|                 110|\"\"\"ULTIMATE KNIGH...|\n",
      "|<br>The mind-stun...|                 too| we think. Don't ...|                null|\n",
      "|<br>32 PGS./Rated...|                null|                null|                null|\n",
      "|               <br>\"|                null|                null|                null|\n",
      "|               37502|Marvels Vol. 1 (1...|                   5|                null|\n",
      "|               17486|X-Men: Phoenix - ...|                   0|                null|\n",
      "|               16234|Cap Transport (20...|                  14|                null|\n",
      "|               21461|Ultimate Spider-M...|                   1|                null|\n",
      "+--------------------+--------------------+--------------------+--------------------+\n",
      "only showing top 20 rows\n",
      "\n"
     ]
    }
   ],
   "source": [
    "COMICS.show()"
   ]
  },
  {
   "cell_type": "code",
   "execution_count": 14,
   "metadata": {},
   "outputs": [
    {
     "name": "stdout",
     "output_type": "stream",
     "text": [
      "+-------+-----------+\n",
      "|comicID|characterID|\n",
      "+-------+-----------+\n",
      "|  16232|    1009220|\n",
      "|  16232|    1010740|\n",
      "|  16248|    1009220|\n",
      "|  16248|    1009471|\n",
      "|  16248|    1009552|\n",
      "|  16248|    1009228|\n",
      "|  21486|    1011109|\n",
      "|  58634|    1010808|\n",
      "|  58634|    1009515|\n",
      "|  16241|    1009220|\n",
      "|  16241|    1009252|\n",
      "|  16241|    1009535|\n",
      "|  16241|    1010899|\n",
      "|  21479|    1011109|\n",
      "|  21468|    1011010|\n",
      "|  15808|    1011010|\n",
      "|  17486|    1009175|\n",
      "|  17486|    1009243|\n",
      "|  17486|    1009257|\n",
      "|  17486|    1009310|\n",
      "+-------+-----------+\n",
      "only showing top 20 rows\n",
      "\n"
     ]
    }
   ],
   "source": [
    "\n",
    "CHAR_TO.show()\n",
    "charid"
   ]
  },
  {
   "cell_type": "code",
   "execution_count": 15,
   "metadata": {},
   "outputs": [
    {
     "name": "stdout",
     "output_type": "stream",
     "text": [
      "+-----------+--------------------+\n",
      "|characterID|                name|\n",
      "+-----------+--------------------+\n",
      "|    1009220|     Captain America|\n",
      "|    1010740|      Winter Soldier|\n",
      "|    1009471|           Nick Fury|\n",
      "|    1009552|        S.H.I.E.L.D.|\n",
      "|    1009228|       Sharon Carter|\n",
      "|    1011109|    X-Men (Ultimate)|\n",
      "|    1010808|Hawkeye (Kate Bis...|\n",
      "|    1009515|            Punisher|\n",
      "|    1009252|          Crossbones|\n",
      "|    1009535|           Red Skull|\n",
      "|    1010899|            Spitfire|\n",
      "|    1011010|Spider-Man (Ultim...|\n",
      "|    1009175|               Beast|\n",
      "|    1009243|            Colossus|\n",
      "|    1009257|             Cyclops|\n",
      "|    1009310|          Emma Frost|\n",
      "|    1009508|         Kitty Pryde|\n",
      "|    1009718|           Wolverine|\n",
      "|    1009726|               X-Men|\n",
      "|    1009359|               Hydra|\n",
      "+-----------+--------------------+\n",
      "only showing top 20 rows\n",
      "\n"
     ]
    }
   ],
   "source": [
    "CHAR.show()"
   ]
  },
  {
   "cell_type": "code",
   "execution_count": 112,
   "metadata": {},
   "outputs": [],
   "source": [
    "ej_1_f=COMICS.join(CHAR_TO,on=['comicID'],how='left').join(CHAR,on=['characterID'],how='left')\n",
    "ej_1_f.write.save('/home/bma/Desktop/examen_diagnostico_datio-master/src/main/resources/output/parquet/comics',format='parquet')"
   ]
  },
  {
   "cell_type": "markdown",
   "metadata": {},
   "source": [
    "## Dado el archivo players_20.csvn nuestro coach Ramón necesita saber \n",
    "#### 1.-Cuales son los 20 jugadores de menos de 23 años que tienen más potencial\n",
    "#### 2.-Cuales son los equipos top 20 con el promedio (overall) más alto\n",
    "#### 3.-De los 20 equipos anteriores nuestro coach también quiere saber cuáles son los 3 porteros y los 3 delanteros con mejor (overall)\n",
    "#### 4.-Rankear a los jugadores por nacionalidad de tal forma que identifiquemos a los 5 mejores de cada país."
   ]
  },
  {
   "cell_type": "code",
   "execution_count": 10,
   "metadata": {},
   "outputs": [],
   "source": [
    "FIFA=sql_c.read.csv(\"/home/bma/Desktop/examen_diagnostico_datio-master/src/main/resources/input/csv/fifa/players_20.csv\",header=True)"
   ]
  },
  {
   "cell_type": "code",
   "execution_count": 39,
   "metadata": {},
   "outputs": [
    {
     "data": {
      "text/plain": [
       "['sofifa_id',\n",
       " 'player_url',\n",
       " 'short_name',\n",
       " 'long_name',\n",
       " 'age',\n",
       " 'dob',\n",
       " 'height_cm',\n",
       " 'weight_kg',\n",
       " 'nationality',\n",
       " 'club',\n",
       " 'overall',\n",
       " 'potential',\n",
       " 'value_eur',\n",
       " 'wage_eur',\n",
       " 'player_positions',\n",
       " 'preferred_foot',\n",
       " 'international_reputation',\n",
       " 'weak_foot',\n",
       " 'skill_moves',\n",
       " 'work_rate',\n",
       " 'body_type',\n",
       " 'real_face',\n",
       " 'release_clause_eur',\n",
       " 'player_tags',\n",
       " 'team_position',\n",
       " 'team_jersey_number',\n",
       " 'loaned_from',\n",
       " 'joined',\n",
       " 'contract_valid_until',\n",
       " 'nation_position',\n",
       " 'nation_jersey_number',\n",
       " 'pace',\n",
       " 'shooting',\n",
       " 'passing',\n",
       " 'dribbling',\n",
       " 'defending',\n",
       " 'physic',\n",
       " 'gk_diving',\n",
       " 'gk_handling',\n",
       " 'gk_kicking',\n",
       " 'gk_reflexes',\n",
       " 'gk_speed',\n",
       " 'gk_positioning',\n",
       " 'player_traits',\n",
       " 'attacking_crossing',\n",
       " 'attacking_finishing',\n",
       " 'attacking_heading_accuracy',\n",
       " 'attacking_short_passing',\n",
       " 'attacking_volleys',\n",
       " 'skill_dribbling',\n",
       " 'skill_curve',\n",
       " 'skill_fk_accuracy',\n",
       " 'skill_long_passing',\n",
       " 'skill_ball_control',\n",
       " 'movement_acceleration',\n",
       " 'movement_sprint_speed',\n",
       " 'movement_agility',\n",
       " 'movement_reactions',\n",
       " 'movement_balance',\n",
       " 'power_shot_power',\n",
       " 'power_jumping',\n",
       " 'power_stamina',\n",
       " 'power_strength',\n",
       " 'power_long_shots',\n",
       " 'mentality_aggression',\n",
       " 'mentality_interceptions',\n",
       " 'mentality_positioning',\n",
       " 'mentality_vision',\n",
       " 'mentality_penalties',\n",
       " 'mentality_composure',\n",
       " 'defending_marking',\n",
       " 'defending_standing_tackle',\n",
       " 'defending_sliding_tackle',\n",
       " 'goalkeeping_diving',\n",
       " 'goalkeeping_handling',\n",
       " 'goalkeeping_kicking',\n",
       " 'goalkeeping_positioning',\n",
       " 'goalkeeping_reflexes',\n",
       " 'ls',\n",
       " 'st',\n",
       " 'rs',\n",
       " 'lw',\n",
       " 'lf',\n",
       " 'cf',\n",
       " 'rf',\n",
       " 'rw',\n",
       " 'lam',\n",
       " 'cam',\n",
       " 'ram',\n",
       " 'lm',\n",
       " 'lcm',\n",
       " 'cm',\n",
       " 'rcm',\n",
       " 'rm',\n",
       " 'lwb',\n",
       " 'ldm',\n",
       " 'cdm',\n",
       " 'rdm',\n",
       " 'rwb',\n",
       " 'lb',\n",
       " 'lcb',\n",
       " 'cb',\n",
       " 'rcb',\n",
       " 'rb']"
      ]
     },
     "execution_count": 39,
     "metadata": {},
     "output_type": "execute_result"
    }
   ],
   "source": [
    "FIFA.columns"
   ]
  },
  {
   "cell_type": "code",
   "execution_count": 113,
   "metadata": {},
   "outputs": [],
   "source": [
    "ej_1=FIFA.select('short_name','potential','age')\n",
    "ej_1_r=ej_1.filter(ej_1.age < 23).orderBy(desc('potential')).limit(20)\n",
    "ej_1_r.write.save('/home/bma/Desktop/examen_diagnostico_datio-master/src/main/resources/output/parquet/fifa/ej1',format='parquet')"
   ]
  },
  {
   "cell_type": "code",
   "execution_count": 124,
   "metadata": {},
   "outputs": [],
   "source": [
    "ej_2=FIFA.select('club','overall','team_position','short_name')\n",
    "ej_21=ej_2.withColumn(\"overall\",col(\"overall\").cast(IntegerType()))\n",
    "\n",
    "ej_2_r=ej_21.groupBy('club').agg(avg('overall').alias('avg_overall')).orderBy(desc('avg_overall')).where(col(\"avg_overall\") >= 75.84848484848484)\n",
    "ej_2_r.write.save('/home/bma/Desktop/examen_diagnostico_datio-master/src/main/resources/output/parquet/fifa/ej2',format='parquet')\n",
    "equipos=ej_2_r.toPandas()['club'].unique()"
   ]
  },
  {
   "cell_type": "code",
   "execution_count": 42,
   "metadata": {},
   "outputs": [],
   "source": [
    "k=0\n",
    "for i in equipos:\n",
    "    ej_31=ej_2.filter(ej_2.club.contains(i)|ej_2.team_position.contains('W')|ej_2.team_position.contains('F'))\n",
    "    ej_32=ej_2.filter(ej_2.club.contains(i)|ej_2.team_position.contains('GK'))\n",
    "    \n",
    "    ej_31=ej_31.orderBy(desc('potential')).limit(3)\n",
    "    ej_32=ej_32.orderBy(desc('potential')).limit(3)\n",
    "    ej_33=ej_32.union(ej_31)\n",
    "    \n",
    "    if k==0:\n",
    "        ej_34=ej_33\n",
    "        \n",
    "    else:\n",
    "        ej_34=ej_34.union(ej_33)\n",
    "    k=k+1"
   ]
  },
  {
   "cell_type": "code",
   "execution_count": 116,
   "metadata": {},
   "outputs": [],
   "source": [
    "ej_34.write.save('/home/bma/Desktop/examen_diagnostico_datio-master/src/main/resources/output/parquet/fifa/ej3',format='parquet')"
   ]
  },
  {
   "cell_type": "code",
   "execution_count": 117,
   "metadata": {},
   "outputs": [],
   "source": [
    "ej_4=FIFA.select('short_name','nationality','potential')\n",
    "pais=ej_4.toPandas()['nationality'].unique()\n",
    "\n",
    "k=0\n",
    "for i in range(0,20):\n",
    "    ej_41=ej_4.filter(ej_4.nationality.contains(pais[i]))\n",
    "    ej_41=ej_41.orderBy(desc('potential')).limit(5)\n",
    "    \n",
    "    if k==0:\n",
    "        ej_42=ej_41\n",
    "        \n",
    "    else:\n",
    "        ej_42=ej_42.union(ej_41)\n",
    "    k=k+1"
   ]
  },
  {
   "cell_type": "code",
   "execution_count": 119,
   "metadata": {},
   "outputs": [],
   "source": [
    "ej_42.write.save('/home/bma/Desktop/examen_diagnostico_datio-master/src/main/resources/output/parquet/fifa/ej4',format='parquet')"
   ]
  },
  {
   "cell_type": "markdown",
   "metadata": {},
   "source": [
    "### Ejercicio 3 Filtrando por los tipos de pokemon(type1) fire y water es necesario calcular el promedio de cada una de las siguientes columnas: sp_attack, sp_defense y speed; de tal forma que el dataframe resultante muestre los siguientes datos: generation, avg_sp_attack_water, avg_sp_attack_fire, avg_sp_defense_water, avg_sp_defense_fire, avg_speed_water, avg_speed_fire"
   ]
  },
  {
   "cell_type": "code",
   "execution_count": 8,
   "metadata": {},
   "outputs": [],
   "source": [
    "POKEMON=sql_c.read.csv(\"/home/bma/Desktop/examen_diagnostico_datio-master/src/main/resources/input/csv/pokemon/PokemonData.csv\",header=True)"
   ]
  },
  {
   "cell_type": "code",
   "execution_count": 108,
   "metadata": {},
   "outputs": [
    {
     "name": "stdout",
     "output_type": "stream",
     "text": [
      "+-----+------------------+-------------------+-----------------+-------------------+--------------------+------------------+\n",
      "|type1|avg_sp_attack_fire|avg_sp_defense_fire|   avg_speed_fire|avg_sp_attack_water|avg_sp_defense_water|   avg_speed_water|\n",
      "+-----+------------------+-------------------+-----------------+-------------------+--------------------+------------------+\n",
      "|water|              null|               null|             null|  74.06140350877193|   71.79824561403508|63.921052631578945|\n",
      "| fire| 87.73076923076923|  71.53846153846153|73.34615384615384|               null|                null|              null|\n",
      "+-----+------------------+-------------------+-----------------+-------------------+--------------------+------------------+\n",
      "\n"
     ]
    }
   ],
   "source": [
    "ej_1_u=POKEMON.select('type1','sp_attack','sp_defense','speed','generation')\n",
    "\n",
    "ej_1_u=ej_1_u.withColumn('sp_attack',col(\"sp_attack\").cast(IntegerType()))\n",
    "ej_1_u=ej_1_u.withColumn('sp_defense',col(\"sp_defense\").cast(IntegerType()))\n",
    "ej_1_u=ej_1_u.withColumn('speed',col(\"speed\").cast(IntegerType()))\n",
    "\n",
    "ej_1_fire=ej_1_u.filter(ej_1_u.type1.contains('fire'))\n",
    "ej_1_water=ej_1_u.filter(ej_1_u.type1.contains('water'))\n",
    "\n",
    "ej_1_fire=ej_1_fire.groupBy('type1').avg('sp_attack','sp_defense','speed')\n",
    "ej_1_fire=ej_1_fire.select('type1',col(\"avg(sp_attack)\").alias(\"avg_sp_attack_fire\"),col(\"avg(sp_defense)\").alias(\"avg_sp_defense_fire\"),col(\"avg(speed)\").alias(\"avg_speed_fire\"))\n",
    "\n",
    "\n",
    "ej_1_water=ej_1_water.groupBy('type1').avg('sp_attack','sp_defense','speed')\n",
    "ej_1_water=ej_1_water.select('type1',col(\"avg(sp_attack)\").alias(\"avg_sp_attack_water\"),col(\"avg(sp_defense)\").alias(\"avg_sp_defense_water\"),col(\"avg(speed)\").alias(\"avg_speed_water\"))\n",
    "ej_12=ej_1_fire.join(ej_1_water,on=['type1'],how='outer')\n",
    "ej_12.show()"
   ]
  },
  {
   "cell_type": "code",
   "execution_count": 110,
   "metadata": {},
   "outputs": [],
   "source": [
    "ej_12.write.save('/home/bma/Desktop/examen_diagnostico_datio-master/src/main/resources/output/parquet',format='parquet')"
   ]
  },
  {
   "cell_type": "code",
   "execution_count": null,
   "metadata": {},
   "outputs": [],
   "source": []
  }
 ],
 "metadata": {
  "kernelspec": {
   "display_name": "Python 3",
   "language": "python",
   "name": "python3"
  },
  "language_info": {
   "codemirror_mode": {
    "name": "ipython",
    "version": 3
   },
   "file_extension": ".py",
   "mimetype": "text/x-python",
   "name": "python",
   "nbconvert_exporter": "python",
   "pygments_lexer": "ipython3",
   "version": "3.8.3"
  }
 },
 "nbformat": 4,
 "nbformat_minor": 4
}
