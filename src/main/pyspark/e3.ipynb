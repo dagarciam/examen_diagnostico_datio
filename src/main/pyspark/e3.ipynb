{
 "cells": [
  {
   "cell_type": "code",
   "execution_count": 98,
   "metadata": {},
   "outputs": [],
   "source": [
    "from pyspark.context import SparkContext\n",
    "from pyspark.sql import SparkSession\n",
    "from pyspark.conf import SparkConf\n",
    "from pyspark.sql import Row\n",
    "import pyspark.sql.functions as f\n",
    "from pyspark.sql.functions import countDistinct, avg, stddev \n",
    "import csv"
   ]
  },
  {
   "cell_type": "code",
   "execution_count": 99,
   "metadata": {},
   "outputs": [],
   "source": [
    "spark = SparkSession.builder.appName('Exam_e3').getOrCreate()"
   ]
  },
  {
   "cell_type": "code",
   "execution_count": 100,
   "metadata": {},
   "outputs": [],
   "source": [
    "df = spark.read.option(\"header\", True).csv(\"../resources/input/csv/pokemon/PokemonData.csv\")"
   ]
  },
  {
   "cell_type": "code",
   "execution_count": 103,
   "metadata": {},
   "outputs": [
    {
     "data": {
      "text/plain": [
       "['abilities',\n",
       " 'against_bug',\n",
       " 'against_dark',\n",
       " 'against_dragon',\n",
       " 'against_electric',\n",
       " 'against_fairy',\n",
       " 'against_fight',\n",
       " 'against_fire',\n",
       " 'against_flying',\n",
       " 'against_ghost',\n",
       " 'against_grass',\n",
       " 'against_ground',\n",
       " 'against_ice',\n",
       " 'against_normal',\n",
       " 'against_poison',\n",
       " 'against_psychic',\n",
       " 'against_rock',\n",
       " 'against_steel',\n",
       " 'against_water',\n",
       " 'attack',\n",
       " 'base_egg_steps',\n",
       " 'base_happiness',\n",
       " 'base_total',\n",
       " 'capture_rate',\n",
       " 'classfication',\n",
       " 'defense',\n",
       " 'experience_growth',\n",
       " 'height_m',\n",
       " 'hp',\n",
       " 'japanese_name',\n",
       " 'name',\n",
       " 'percentage_male',\n",
       " 'pokedex_number',\n",
       " 'sp_attack',\n",
       " 'sp_defense',\n",
       " 'speed',\n",
       " 'type1',\n",
       " 'type2',\n",
       " 'weight_kg',\n",
       " 'generation',\n",
       " 'is_legendary']"
      ]
     },
     "execution_count": 103,
     "metadata": {},
     "output_type": "execute_result"
    }
   ],
   "source": [
    "df.columns"
   ]
  },
  {
   "cell_type": "code",
   "execution_count": 101,
   "metadata": {},
   "outputs": [],
   "source": [
    "df_filtered = df.filter( (f.col(\"type1\") == 'fire') | (f.col(\"type1\") == 'water') )"
   ]
  },
  {
   "cell_type": "code",
   "execution_count": 102,
   "metadata": {},
   "outputs": [
    {
     "name": "stdout",
     "output_type": "stream",
     "text": [
      "+-----+------------------+-----------------+-----------------+------------------+\n",
      "|type1|        generation|        sp_attack|       sp_defense|          sp_speed|\n",
      "+-----+------------------+-----------------+-----------------+------------------+\n",
      "|water| 3.210526315789474|74.06140350877193|71.79824561403508|63.921052631578945|\n",
      "| fire|3.6346153846153846|87.73076923076923|71.53846153846153| 73.34615384615384|\n",
      "+-----+------------------+-----------------+-----------------+------------------+\n",
      "\n"
     ]
    }
   ],
   "source": [
    "df_filtered.groupBy('type1').agg( avg('generation').alias('generation'), f.avg('sp_attack').alias('sp_attack'), f.avg('sp_defense').alias('sp_defense'), f.avg('speed').alias('sp_speed')).show(5)"
   ]
  },
  {
   "cell_type": "code",
   "execution_count": null,
   "metadata": {},
   "outputs": [],
   "source": [
    "df.write.parquet(\"../output/parquet/e3/e3.parquet\")"
   ]
  },
  {
   "cell_type": "code",
   "execution_count": null,
   "metadata": {},
   "outputs": [],
   "source": []
  },
  {
   "cell_type": "code",
   "execution_count": null,
   "metadata": {},
   "outputs": [],
   "source": []
  },
  {
   "cell_type": "code",
   "execution_count": null,
   "metadata": {},
   "outputs": [],
   "source": []
  },
  {
   "cell_type": "code",
   "execution_count": null,
   "metadata": {},
   "outputs": [],
   "source": []
  },
  {
   "cell_type": "code",
   "execution_count": null,
   "metadata": {},
   "outputs": [],
   "source": []
  },
  {
   "cell_type": "code",
   "execution_count": null,
   "metadata": {},
   "outputs": [],
   "source": []
  },
  {
   "cell_type": "markdown",
   "metadata": {},
   "source": [
    "## Defense"
   ]
  },
  {
   "cell_type": "code",
   "execution_count": null,
   "metadata": {},
   "outputs": [],
   "source": []
  },
  {
   "cell_type": "code",
   "execution_count": null,
   "metadata": {},
   "outputs": [],
   "source": []
  },
  {
   "cell_type": "code",
   "execution_count": null,
   "metadata": {},
   "outputs": [],
   "source": []
  },
  {
   "cell_type": "code",
   "execution_count": null,
   "metadata": {},
   "outputs": [],
   "source": []
  },
  {
   "cell_type": "code",
   "execution_count": null,
   "metadata": {},
   "outputs": [],
   "source": []
  },
  {
   "cell_type": "code",
   "execution_count": null,
   "metadata": {},
   "outputs": [],
   "source": []
  },
  {
   "cell_type": "code",
   "execution_count": null,
   "metadata": {},
   "outputs": [],
   "source": []
  },
  {
   "cell_type": "code",
   "execution_count": null,
   "metadata": {},
   "outputs": [],
   "source": []
  },
  {
   "cell_type": "code",
   "execution_count": null,
   "metadata": {},
   "outputs": [],
   "source": []
  }
 ],
 "metadata": {
  "kernelspec": {
   "display_name": "Python 3",
   "language": "python",
   "name": "python3"
  },
  "language_info": {
   "codemirror_mode": {
    "name": "ipython",
    "version": 3
   },
   "file_extension": ".py",
   "mimetype": "text/x-python",
   "name": "python",
   "nbconvert_exporter": "python",
   "pygments_lexer": "ipython3",
   "version": "3.7.6"
  }
 },
 "nbformat": 4,
 "nbformat_minor": 4
}
