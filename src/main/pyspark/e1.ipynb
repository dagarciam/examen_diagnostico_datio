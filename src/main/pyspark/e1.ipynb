{
 "cells": [
  {
   "cell_type": "code",
   "execution_count": 1,
   "metadata": {},
   "outputs": [],
   "source": [
    "from pyspark.context import SparkContext\n",
    "from pyspark.sql import SparkSession\n",
    "from pyspark.conf import SparkConf\n",
    "from pyspark.sql import Row\n",
    "import pyspark.sql.functions as f"
   ]
  },
  {
   "cell_type": "code",
   "execution_count": 2,
   "metadata": {},
   "outputs": [],
   "source": [
    "spark = SparkSession.builder.appName('Exam').getOrCreate()"
   ]
  },
  {
   "cell_type": "code",
   "execution_count": 3,
   "metadata": {},
   "outputs": [],
   "source": [
    "df_comics = spark.read.option(\"header\", True).csv(\"../resources/input/csv/comics/comics.csv\")"
   ]
  },
  {
   "cell_type": "code",
   "execution_count": 4,
   "metadata": {},
   "outputs": [],
   "source": [
    "df_char_to_cm = spark.read.option(\"header\", True).csv(\"../resources/input/csv/comics/charactersToComics.csv\")"
   ]
  },
  {
   "cell_type": "code",
   "execution_count": 5,
   "metadata": {},
   "outputs": [],
   "source": [
    "df_characters = spark.read.option(\"header\", True).csv(\"../resources/input/csv/comics/characters.csv\")"
   ]
  },
  {
   "cell_type": "markdown",
   "metadata": {},
   "source": [
    "## Dataframes"
   ]
  },
  {
   "cell_type": "code",
   "execution_count": 6,
   "metadata": {},
   "outputs": [
    {
     "name": "stdout",
     "output_type": "stream",
     "text": [
      "+-------+--------------------+-----------+--------------------+\n",
      "|comicID|               title|issueNumber|         description|\n",
      "+-------+--------------------+-----------+--------------------+\n",
      "|  16232|Cap Transport (20...|         12|                null|\n",
      "|  16248|Cap Transport (20...|          9|                null|\n",
      "|   4990| Halo Preview (2006)|          0|                null|\n",
      "|  21486|Ultimate X-Men (S...|          9|                null|\n",
      "|  58634|A Year of Marvels...|          5|It’s Halloween in...|\n",
      "+-------+--------------------+-----------+--------------------+\n",
      "only showing top 5 rows\n",
      "\n"
     ]
    }
   ],
   "source": [
    "df_comics.show(5)"
   ]
  },
  {
   "cell_type": "code",
   "execution_count": 7,
   "metadata": {},
   "outputs": [
    {
     "name": "stdout",
     "output_type": "stream",
     "text": [
      "+--------+--------------------+-----------+--------------------+\n",
      "|comic_ID|               title|issueNumber|         description|\n",
      "+--------+--------------------+-----------+--------------------+\n",
      "|   16232|Cap Transport (20...|         12|                null|\n",
      "|   16248|Cap Transport (20...|          9|                null|\n",
      "|    4990| Halo Preview (2006)|          0|                null|\n",
      "|   21486|Ultimate X-Men (S...|          9|                null|\n",
      "|   58634|A Year of Marvels...|          5|It’s Halloween in...|\n",
      "+--------+--------------------+-----------+--------------------+\n",
      "only showing top 5 rows\n",
      "\n"
     ]
    }
   ],
   "source": [
    "df_comics = df_comics.withColumnRenamed('comicID', 'comic_ID')\n",
    "df_comics.show(5)"
   ]
  },
  {
   "cell_type": "code",
   "execution_count": 8,
   "metadata": {},
   "outputs": [
    {
     "name": "stdout",
     "output_type": "stream",
     "text": [
      "+-------+-----------+\n",
      "|comicID|characterID|\n",
      "+-------+-----------+\n",
      "|  16232|    1009220|\n",
      "|  16232|    1010740|\n",
      "|  16248|    1009220|\n",
      "|  16248|    1009471|\n",
      "|  16248|    1009552|\n",
      "+-------+-----------+\n",
      "only showing top 5 rows\n",
      "\n"
     ]
    }
   ],
   "source": [
    "#df_char_to_cm = df_char_to_cm.withColumnRenamed('comicID', 'comic_ID')\n",
    "df_char_to_cm.show(5)"
   ]
  },
  {
   "cell_type": "code",
   "execution_count": 9,
   "metadata": {},
   "outputs": [
    {
     "name": "stdout",
     "output_type": "stream",
     "text": [
      "+-------+-----------+\n",
      "|comicID|characterID|\n",
      "+-------+-----------+\n",
      "|  16232|    1009220|\n",
      "|  16232|    1010740|\n",
      "|  16248|    1009220|\n",
      "|  16248|    1009471|\n",
      "|  16248|    1009552|\n",
      "+-------+-----------+\n",
      "only showing top 5 rows\n",
      "\n"
     ]
    }
   ],
   "source": [
    "df_char_to_cm.show(5)"
   ]
  },
  {
   "cell_type": "code",
   "execution_count": 10,
   "metadata": {},
   "outputs": [
    {
     "name": "stdout",
     "output_type": "stream",
     "text": [
      "+-----------+---------------+\n",
      "|characterID|           name|\n",
      "+-----------+---------------+\n",
      "|    1009220|Captain America|\n",
      "|    1010740| Winter Soldier|\n",
      "|    1009471|      Nick Fury|\n",
      "|    1009552|   S.H.I.E.L.D.|\n",
      "|    1009228|  Sharon Carter|\n",
      "+-----------+---------------+\n",
      "only showing top 5 rows\n",
      "\n"
     ]
    }
   ],
   "source": [
    "df_characters.show(5)"
   ]
  },
  {
   "cell_type": "code",
   "execution_count": 11,
   "metadata": {},
   "outputs": [],
   "source": [
    "left_join = df_comics.join(df_char_to_cm, df_comics.comic_ID == df_char_to_cm.comicID, how='left')"
   ]
  },
  {
   "cell_type": "code",
   "execution_count": 12,
   "metadata": {},
   "outputs": [],
   "source": [
    "second_left_join = left_join.join(df_characters, left_join.characterID == df_characters.characterID, how='left')"
   ]
  },
  {
   "cell_type": "code",
   "execution_count": 13,
   "metadata": {},
   "outputs": [
    {
     "name": "stdout",
     "output_type": "stream",
     "text": [
      "+--------+--------------------+-----------+-----------+-------+-----------+-----------+---------------+\n",
      "|comic_ID|               title|issueNumber|description|comicID|characterID|characterID|           name|\n",
      "+--------+--------------------+-----------+-----------+-------+-----------+-----------+---------------+\n",
      "|   16232|Cap Transport (20...|         12|       null|  16232|    1010740|    1010740| Winter Soldier|\n",
      "|   16232|Cap Transport (20...|         12|       null|  16232|    1009220|    1009220|Captain America|\n",
      "|   16248|Cap Transport (20...|          9|       null|  16248|    1009228|    1009228|  Sharon Carter|\n",
      "|   16248|Cap Transport (20...|          9|       null|  16248|    1009552|    1009552|   S.H.I.E.L.D.|\n",
      "|   16248|Cap Transport (20...|          9|       null|  16248|    1009471|    1009471|      Nick Fury|\n",
      "|   16248|Cap Transport (20...|          9|       null|  16248|    1009220|    1009220|Captain America|\n",
      "|    4990| Halo Preview (2006)|          0|       null|   null|       null|       null|           null|\n",
      "+--------+--------------------+-----------+-----------+-------+-----------+-----------+---------------+\n",
      "only showing top 7 rows\n",
      "\n"
     ]
    }
   ],
   "source": [
    "second_left_join.show(7)"
   ]
  },
  {
   "cell_type": "code",
   "execution_count": 14,
   "metadata": {},
   "outputs": [
    {
     "data": {
      "text/plain": [
       "['comic_ID',\n",
       " 'title',\n",
       " 'issueNumber',\n",
       " 'description',\n",
       " 'comicID',\n",
       " 'characterID',\n",
       " 'characterID',\n",
       " 'name']"
      ]
     },
     "execution_count": 14,
     "metadata": {},
     "output_type": "execute_result"
    }
   ],
   "source": [
    "second_left_join.columns"
   ]
  },
  {
   "cell_type": "code",
   "execution_count": null,
   "metadata": {},
   "outputs": [],
   "source": [
    "second_left_join.write.parquet(\"../output/parquet/e1/e1.parquet\")"
   ]
  }
 ],
 "metadata": {
  "kernelspec": {
   "display_name": "Python 3",
   "language": "python",
   "name": "python3"
  },
  "language_info": {
   "codemirror_mode": {
    "name": "ipython",
    "version": 3
   },
   "file_extension": ".py",
   "mimetype": "text/x-python",
   "name": "python",
   "nbconvert_exporter": "python",
   "pygments_lexer": "ipython3",
   "version": "3.7.6"
  }
 },
 "nbformat": 4,
 "nbformat_minor": 4
}
