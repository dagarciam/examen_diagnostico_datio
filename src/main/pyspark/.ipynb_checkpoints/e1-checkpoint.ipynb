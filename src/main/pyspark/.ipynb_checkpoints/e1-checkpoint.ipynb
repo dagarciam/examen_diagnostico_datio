{
 "cells": [
  {
   "cell_type": "code",
   "execution_count": 30,
   "metadata": {},
   "outputs": [],
   "source": [
    "from pyspark.context import SparkContext\n",
    "from pyspark.sql import SparkSession\n",
    "from pyspark.conf import SparkConf\n",
    "from pyspark.sql import Row\n",
    "import pyspark.sql.functions as f"
   ]
  },
  {
   "cell_type": "code",
   "execution_count": 31,
   "metadata": {},
   "outputs": [],
   "source": [
    "spark = SparkSession.builder.appName('Exam').getOrCreate()"
   ]
  },
  {
   "cell_type": "code",
   "execution_count": 32,
   "metadata": {},
   "outputs": [],
   "source": [
    "df = spark.read.format(\"csv\").load(\"../resources/input/csv/comics/comics.csv\")"
   ]
  },
  {
   "cell_type": "code",
   "execution_count": 33,
   "metadata": {},
   "outputs": [
    {
     "name": "stdout",
     "output_type": "stream",
     "text": [
      "+-------+--------------------+-----------+-----------+\n",
      "|    _c0|                 _c1|        _c2|        _c3|\n",
      "+-------+--------------------+-----------+-----------+\n",
      "|comicID|               title|issueNumber|description|\n",
      "|  16232|Cap Transport (20...|         12|       null|\n",
      "|  16248|Cap Transport (20...|          9|       null|\n",
      "|   4990| Halo Preview (2006)|          0|       null|\n",
      "|  21486|Ultimate X-Men (S...|          9|       null|\n",
      "+-------+--------------------+-----------+-----------+\n",
      "only showing top 5 rows\n",
      "\n"
     ]
    }
   ],
   "source": [
    "df.show(5)"
   ]
  },
  {
   "cell_type": "code",
   "execution_count": 36,
   "metadata": {},
   "outputs": [],
   "source": [
    "df_new = df.withColumn(\"characters\", f.col(\"_c1\"))"
   ]
  },
  {
   "cell_type": "code",
   "execution_count": 39,
   "metadata": {},
   "outputs": [
    {
     "name": "stdout",
     "output_type": "stream",
     "text": [
      "+-------+--------------------+-----------+-----------+--------------------+\n",
      "|    _c0|                 _c1|        _c2|        _c3|          characters|\n",
      "+-------+--------------------+-----------+-----------+--------------------+\n",
      "|comicID|               title|issueNumber|description|               title|\n",
      "|  16232|Cap Transport (20...|         12|       null|Cap Transport (20...|\n",
      "|  16248|Cap Transport (20...|          9|       null|Cap Transport (20...|\n",
      "|   4990| Halo Preview (2006)|          0|       null| Halo Preview (2006)|\n",
      "|  21486|Ultimate X-Men (S...|          9|       null|Ultimate X-Men (S...|\n",
      "+-------+--------------------+-----------+-----------+--------------------+\n",
      "only showing top 5 rows\n",
      "\n"
     ]
    }
   ],
   "source": [
    "df_new.show(5)"
   ]
  },
  {
   "cell_type": "code",
   "execution_count": 34,
   "metadata": {},
   "outputs": [],
   "source": [
    "df.write.parquet(\"../output/parquet/e1/e1.parquet\")"
   ]
  },
  {
   "cell_type": "code",
   "execution_count": null,
   "metadata": {},
   "outputs": [],
   "source": []
  }
 ],
 "metadata": {
  "kernelspec": {
   "display_name": "Python 3",
   "language": "python",
   "name": "python3"
  },
  "language_info": {
   "codemirror_mode": {
    "name": "ipython",
    "version": 3
   },
   "file_extension": ".py",
   "mimetype": "text/x-python",
   "name": "python",
   "nbconvert_exporter": "python",
   "pygments_lexer": "ipython3",
   "version": "3.7.6"
  }
 },
 "nbformat": 4,
 "nbformat_minor": 4
}
