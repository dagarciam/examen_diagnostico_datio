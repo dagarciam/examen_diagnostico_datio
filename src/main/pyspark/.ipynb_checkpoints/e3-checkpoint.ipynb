{
 "cells": [
  {
   "cell_type": "code",
   "execution_count": 47,
   "metadata": {},
   "outputs": [],
   "source": [
    "from pyspark.context import SparkContext\n",
    "from pyspark.sql import SparkSession\n",
    "from pyspark.conf import SparkConf\n",
    "from pyspark.sql import Row\n",
    "import pyspark.sql.functions as f\n",
    "import csv"
   ]
  },
  {
   "cell_type": "code",
   "execution_count": 48,
   "metadata": {},
   "outputs": [],
   "source": [
    "spark = SparkSession.builder.appName('Exam_e2').getOrCreate()"
   ]
  },
  {
   "cell_type": "code",
   "execution_count": 49,
   "metadata": {},
   "outputs": [],
   "source": [
    "df = spark.read.option(\"header\", True).csv(\"../resources/input/csv/pokemon/PokemonData.csv\")"
   ]
  },
  {
   "cell_type": "code",
   "execution_count": 50,
   "metadata": {},
   "outputs": [
    {
     "data": {
      "text/plain": [
       "['abilities',\n",
       " 'against_bug',\n",
       " 'against_dark',\n",
       " 'against_dragon',\n",
       " 'against_electric',\n",
       " 'against_fairy',\n",
       " 'against_fight',\n",
       " 'against_fire',\n",
       " 'against_flying',\n",
       " 'against_ghost',\n",
       " 'against_grass',\n",
       " 'against_ground',\n",
       " 'against_ice',\n",
       " 'against_normal',\n",
       " 'against_poison',\n",
       " 'against_psychic',\n",
       " 'against_rock',\n",
       " 'against_steel',\n",
       " 'against_water',\n",
       " 'attack',\n",
       " 'base_egg_steps',\n",
       " 'base_happiness',\n",
       " 'base_total',\n",
       " 'capture_rate',\n",
       " 'classfication',\n",
       " 'defense',\n",
       " 'experience_growth',\n",
       " 'height_m',\n",
       " 'hp',\n",
       " 'japanese_name',\n",
       " 'name',\n",
       " 'percentage_male',\n",
       " 'pokedex_number',\n",
       " 'sp_attack',\n",
       " 'sp_defense',\n",
       " 'speed',\n",
       " 'type1',\n",
       " 'type2',\n",
       " 'weight_kg',\n",
       " 'generation',\n",
       " 'is_legendary']"
      ]
     },
     "execution_count": 50,
     "metadata": {},
     "output_type": "execute_result"
    }
   ],
   "source": [
    "df.columns"
   ]
  },
  {
   "cell_type": "code",
   "execution_count": 35,
   "metadata": {},
   "outputs": [],
   "source": [
    "li = [\"water\", \"fire\"]"
   ]
  },
  {
   "cell_type": "code",
   "execution_count": 53,
   "metadata": {},
   "outputs": [],
   "source": [
    "df_filtered = df.filter( (f.col(\"type1\") == 'fire') | (f.col(\"type1\") == 'water') )"
   ]
  },
  {
   "cell_type": "code",
   "execution_count": 67,
   "metadata": {},
   "outputs": [
    {
     "name": "stdout",
     "output_type": "stream",
     "text": [
      "+----------+---------+----------+-----+\n",
      "|generation|sp_attack|sp_defense|speed|\n",
      "+----------+---------+----------+-----+\n",
      "|         1|       60|        50|   65|\n",
      "|         1|       80|        65|   80|\n",
      "|         1|      159|       115|  100|\n",
      "|         1|       50|        64|   43|\n",
      "|         1|       65|        80|   58|\n",
      "|         1|      135|       115|   78|\n",
      "|         1|       50|        65|   65|\n",
      "|         1|       81|       100|  109|\n",
      "|         1|       65|        50|   55|\n",
      "|         1|       95|        80|   85|\n",
      "|         1|       70|        50|   60|\n",
      "|         1|      100|        80|   95|\n",
      "|         1|       40|        40|   90|\n",
      "|         1|       50|        50|   90|\n",
      "|         1|       70|        90|   70|\n",
      "|         1|       50|       100|   70|\n",
      "|         1|       80|       120|  100|\n",
      "|         1|       65|        65|   90|\n",
      "|         1|       80|        80|  105|\n",
      "|         1|       40|        40|   15|\n",
      "+----------+---------+----------+-----+\n",
      "only showing top 20 rows\n",
      "\n"
     ]
    }
   ],
   "source": [
    "df_filtered.select(['generation', 'sp_attack', 'sp_defense', 'speed']).show()"
   ]
  },
  {
   "cell_type": "code",
   "execution_count": 65,
   "metadata": {},
   "outputs": [
    {
     "name": "stdout",
     "output_type": "stream",
     "text": [
      "+----------------+-----------------+-----------------+\n",
      "|  avg(sp_attack)|  avg(sp_defense)|       avg(speed)|\n",
      "+----------------+-----------------+-----------------+\n",
      "|78.3433734939759|71.71686746987952|66.87349397590361|\n",
      "+----------------+-----------------+-----------------+\n",
      "\n"
     ]
    }
   ],
   "source": [
    "df_filtered.select( f.avg('sp_attack'), f.avg('sp_defense'), f.avg('speed')).show(5)"
   ]
  },
  {
   "cell_type": "code",
   "execution_count": 68,
   "metadata": {},
   "outputs": [
    {
     "name": "stdout",
     "output_type": "stream",
     "text": [
      "+-----+-----------------+\n",
      "|type1|   avg(sp_attack)|\n",
      "+-----+-----------------+\n",
      "|water|74.06140350877193|\n",
      "| fire|87.73076923076923|\n",
      "+-----+-----------------+\n",
      "\n"
     ]
    }
   ],
   "source": [
    "df_filtered.groupBy('type1').agg(f.avg('sp_attack')).show(5)"
   ]
  },
  {
   "cell_type": "code",
   "execution_count": 63,
   "metadata": {},
   "outputs": [
    {
     "name": "stdout",
     "output_type": "stream",
     "text": [
      "+----------+\n",
      "|generation|\n",
      "+----------+\n",
      "|         1|\n",
      "|         1|\n",
      "|         1|\n",
      "|         1|\n",
      "|         1|\n",
      "|         1|\n",
      "|         1|\n",
      "|         1|\n",
      "|         1|\n",
      "|         1|\n",
      "|         1|\n",
      "|         1|\n",
      "|         1|\n",
      "|         1|\n",
      "|         1|\n",
      "|         1|\n",
      "|         1|\n",
      "|         1|\n",
      "|         1|\n",
      "|         1|\n",
      "+----------+\n",
      "only showing top 20 rows\n",
      "\n"
     ]
    }
   ],
   "source": [
    "df_filtered.select(f.col('generation')).show()"
   ]
  },
  {
   "cell_type": "code",
   "execution_count": 58,
   "metadata": {},
   "outputs": [
    {
     "name": "stdout",
     "output_type": "stream",
     "text": [
      "+--------------------+-----------+------------+--------------+----------------+-------------+-------------+------------+--------------+-------------+-------------+--------------+-----------+--------------+--------------+---------------+------------+-------------+-------------+------+--------------+--------------+----------+------------+-------------------+-------+-----------------+--------+---+------------------+----------+---------------+--------------+---------+----------+-----+-----+------+---------+----------+------------+\n",
      "|           abilities|against_bug|against_dark|against_dragon|against_electric|against_fairy|against_fight|against_fire|against_flying|against_ghost|against_grass|against_ground|against_ice|against_normal|against_poison|against_psychic|against_rock|against_steel|against_water|attack|base_egg_steps|base_happiness|base_total|capture_rate|      classfication|defense|experience_growth|height_m| hp|     japanese_name|      name|percentage_male|pokedex_number|sp_attack|sp_defense|speed|type1| type2|weight_kg|generation|is_legendary|\n",
      "+--------------------+-----------+------------+--------------+----------------+-------------+-------------+------------+--------------+-------------+-------------+--------------+-----------+--------------+--------------+---------------+------------+-------------+-------------+------+--------------+--------------+----------+------------+-------------------+-------+-----------------+--------+---+------------------+----------+---------------+--------------+---------+----------+-----+-----+------+---------+----------+------------+\n",
      "|['Blaze', 'Solar ...|        0.5|           1|             1|               1|          0.5|            1|         0.5|             1|            1|          0.5|             2|        0.5|             1|             1|              1|           2|          0.5|            2|    52|          5120|            70|       309|          45|     Lizard Pokémon|     43|          1059860|     0.6| 39|  Hitokageヒトカゲ|Charmander|           88.1|             4|       60|        50|   65| fire|  null|      8.5|         1|           0|\n",
      "|['Blaze', 'Solar ...|        0.5|           1|             1|               1|          0.5|            1|         0.5|             1|            1|          0.5|             2|        0.5|             1|             1|              1|           2|          0.5|            2|    64|          5120|            70|       405|          45|      Flame Pokémon|     58|          1059860|     1.1| 58|   Lizardoリザード|Charmeleon|           88.1|             5|       80|        65|   80| fire|  null|     19.0|         1|           0|\n",
      "|['Blaze', 'Solar ...|       0.25|           1|             1|               2|          0.5|          0.5|         0.5|             1|            1|         0.25|             0|          1|             1|             1|              1|           4|          0.5|            2|   104|          5120|            70|       634|          45|      Flame Pokémon|     78|          1059860|     1.7| 78|Lizardonリザードン| Charizard|           88.1|             6|      159|       115|  100| fire|flying|     90.5|         1|           0|\n",
      "|['Torrent', 'Rain...|          1|           1|             1|               2|            1|            1|         0.5|             1|            1|            2|             1|        0.5|             1|             1|              1|           1|          0.5|          0.5|    48|          5120|            70|       314|          45|Tiny Turtle Pokémon|     65|          1059860|     0.5| 44|  Zenigameゼニガメ|  Squirtle|           88.1|             7|       50|        64|   43|water|  null|      9.0|         1|           0|\n",
      "|['Torrent', 'Rain...|          1|           1|             1|               2|            1|            1|         0.5|             1|            1|            2|             1|        0.5|             1|             1|              1|           1|          0.5|          0.5|    63|          5120|            70|       405|          45|     Turtle Pokémon|     80|          1059860|     1.0| 59|    Kameilカメール| Wartortle|           88.1|             8|       65|        80|   58|water|  null|     22.5|         1|           0|\n",
      "+--------------------+-----------+------------+--------------+----------------+-------------+-------------+------------+--------------+-------------+-------------+--------------+-----------+--------------+--------------+---------------+------------+-------------+-------------+------+--------------+--------------+----------+------------+-------------------+-------+-----------------+--------+---+------------------+----------+---------------+--------------+---------+----------+-----+-----+------+---------+----------+------------+\n",
      "only showing top 5 rows\n",
      "\n"
     ]
    }
   ],
   "source": [
    "df_filtered.show(5)"
   ]
  },
  {
   "cell_type": "code",
   "execution_count": null,
   "metadata": {},
   "outputs": [],
   "source": [
    "df_filtered.write.csv('filtered.csv')"
   ]
  }
 ],
 "metadata": {
  "kernelspec": {
   "display_name": "Python 3",
   "language": "python",
   "name": "python3"
  },
  "language_info": {
   "codemirror_mode": {
    "name": "ipython",
    "version": 3
   },
   "file_extension": ".py",
   "mimetype": "text/x-python",
   "name": "python",
   "nbconvert_exporter": "python",
   "pygments_lexer": "ipython3",
   "version": "3.7.6"
  }
 },
 "nbformat": 4,
 "nbformat_minor": 4
}
